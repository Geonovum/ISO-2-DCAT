{
 "cells": [
  {
   "cell_type": "markdown",
   "metadata": {},
   "source": [
    "## demo van het valideren van dcat beschrijvingen op basis van de DCAT-AP-NL 3.0 shacl files\n",
    "\n",
    "Dit is een jupyter notebook wat laat zien hoe pyshacl gebruikt kan worden om validaties te doen.\n",
    "\n",
    "Om dit notebook uit te kunnen voeren heb je nodig:\n",
    "\n",
    "- een python installatie met:\n",
    "    - jupyter notebook\n",
    "    - rdflib\n",
    "    - pyshacl\n",
    "    - pandas\n",
    "    "
   ]
  },
  {
   "cell_type": "code",
   "execution_count": 1,
   "metadata": {},
   "outputs": [],
   "source": [
    "# helper functie om te valideren met pyshacl\n",
    "from pyshacl import validate\n",
    "def do_validate(data_graph, sg):\n",
    "    r = validate(data_graph,\n",
    "      shacl_graph=sg,\n",
    "      ont_graph=None,\n",
    "      inference='rdfs',\n",
    "      abort_on_first=False,\n",
    "      allow_infos=False,\n",
    "      allow_warnings=False,\n",
    "      meta_shacl=False,\n",
    "      advanced=False,\n",
    "      js=False,\n",
    "      debug=False)\n",
    "    conforms, results_graph, results_text = r\n",
    "    return conforms, results_graph, results_text"
   ]
  },
  {
   "cell_type": "markdown",
   "metadata": {},
   "source": [
    "## Verschillende niveaus van valideren\n",
    "\n",
    "- De validatie kan kijken naar alleen de verplichte eigenschappen (niveau_1)\n",
    "- De verplichte eigenschappen, inclusief het bereik van de codelijsten (niveau_2)\n",
    "- Of verplichte eigenschappen, codelijsten en aanbevolen eigenschappen (niveau_3)"
   ]
  },
  {
   "cell_type": "code",
   "execution_count": 2,
   "metadata": {},
   "outputs": [],
   "source": [
    "from rdflib import Graph\n",
    "shacl_folder = r'https://raw.githubusercontent.com/Geonovum/DCAT-AP-NL30/refs/heads/main/shapes/'\n",
    "\n",
    "dcat_ap = Graph().parse(shacl_folder + 'dcat-ap-SHACL.ttl', format=\"ttl\")\n",
    "dcat_ap_nl = Graph().parse(shacl_folder + 'dcat-ap-nl-SHACL.ttl', format=\"ttl\")\n",
    "klassebereik = Graph().parse(shacl_folder + 'dcat-ap-nl-SHACL-klassebereik.ttl', format=\"ttl\")\n",
    "codelijsten = Graph().parse(shacl_folder + 'dcat-ap-nl-SHACL-klassebereik-codelijsten.ttl', format=\"ttl\")\n",
    "aanbevolen = Graph().parse(shacl_folder + 'dcat-ap-nl-SHACL-aanbevolen.ttl', format=\"ttl\")\n",
    "\n",
    "niveau_1 = Graph()\n",
    "niveau_1 += dcat_ap\n",
    "niveau_1 += dcat_ap_nl\n",
    "\n",
    "niveau_2 = Graph()\n",
    "niveau_2 += niveau_1\n",
    "niveau_2 += klassebereik\n",
    "niveau_2 += codelijsten\n",
    "\n",
    "niveau_3 = Graph()\n",
    "niveau_3 += niveau_2\n",
    "niveau_3 += aanbevolen\n"
   ]
  },
  {
   "cell_type": "markdown",
   "metadata": {},
   "source": [
    "## Validatie\n",
    "\n",
    "validatie met pyshacl kan een text file opleveren met leesbare output of een .ttl file met de validatie resultaten.\n",
    "\n",
    "In onderstaand voorbeeld doen we allebei"
   ]
  },
  {
   "cell_type": "code",
   "execution_count": null,
   "metadata": {},
   "outputs": [],
   "source": [
    "from rdflib import Graph\n",
    "\n",
    "input_data = r'./dcat-ap-nl-dataset-valide.ttl'\n",
    "\n",
    "data_graph = Graph()\n",
    "data_graph.parse(input_data, format='turtle')\n",
    "\n",
    "\n",
    "# Niveau_1\n",
    "conforms1, results_graph1, results_text1 = do_validate(data_graph, niveau_1)\n",
    "results_graph1.serialize('./resultaat/dataset-valide-niveau_1.ttl')\n",
    "f = open(\"./resultaat/dataset-valide-niveau_1.txt\", \"a\")\n",
    "f.write(results_text1)\n",
    "f.close()\n",
    "\n",
    "# Niveau_2\n",
    "conforms1, results_graph1, results_text1 = do_validate(data_graph, niveau_2)\n",
    "results_graph1.serialize('./resultaat/dataset-valide-niveau_2.ttl')\n",
    "f = open(\"./resultaat/dataset-valide-niveau_2.txt\", \"a\")\n",
    "f.write(results_text1)\n",
    "f.close()\n",
    "\n",
    "# Niveau_3\n",
    "conforms1, results_graph1, results_text1 = do_validate(data_graph, niveau_3)\n",
    "results_graph1.serialize('./resultaat/dataset-valide-niveau_3.ttl')\n",
    "f = open(\"./resultaat/dataset-valide-niveau_3.txt\", \"a\")\n",
    "f.write(results_text1)\n",
    "f.close()\n"
   ]
  },
  {
   "cell_type": "markdown",
   "metadata": {},
   "source": [
    "Merk op dat niveau_1 en niveau_2 het resultaat\n",
    "```\n",
    "Validation Report\n",
    "Conforms: True\n",
    "```\n",
    "oplevert.\n",
    "\n",
    "niveau_3 geeft 2 warnings van aanbevolen eigenschappen die niet aanwezig zijn.\n",
    "\n",
    "---\n",
    "\n",
    "## sparql query op shacl validatie\n",
    "\n",
    "Als er veel validatie fouten zijn, kan het resultaat nogal onoverzichtelijk zijn.\n",
    "\n",
    "Met een paar sparql queries kunnen we makkelijk overzicht krijgen\n"
   ]
  },
  {
   "cell_type": "code",
   "execution_count": 10,
   "metadata": {},
   "outputs": [
    {
     "data": {
      "text/plain": [
       "<Graph identifier=N1407fa6d42f7456196cd4c6ab3b482e9 (<class 'rdflib.graph.Graph'>)>"
      ]
     },
     "execution_count": 10,
     "metadata": {},
     "output_type": "execute_result"
    }
   ],
   "source": [
    "# shacl resultaat en oorspronkelijke data mergen zodat we de dataset labels hebben bij de validatie resultaten.\n",
    "from rdflib import Graph\n",
    "\n",
    "validatiegraph = Graph()\n",
    "validatiegraph.parse(r'./resultaat/dataset-valide-niveau_3.ttl', format='turtle')\n",
    "validatiegraph += data_graph\n",
    "\n",
    "validatiegraph.serialize('data_en_resultaat.ttl')\n"
   ]
  },
  {
   "cell_type": "code",
   "execution_count": 11,
   "metadata": {},
   "outputs": [
    {
     "name": "stdout",
     "output_type": "stream",
     "text": [
      "1 http://xmlns.com/foaf/0.1/page Less than 1 values on exampleMS:1T2p3o4B->foaf:page\n",
      "1 http://www.w3.org/ns/dcat#landingPage Less than 1 values on exampleMS:1T2p3o4B->dcat:landingPage\n"
     ]
    }
   ],
   "source": [
    "# Define your SPARQL query\n",
    "sparql_query = \"\"\"\n",
    "    PREFIX sh: <http://www.w3.org/ns/shacl#>\n",
    "    PREFIX rdf: <http://www.w3.org/1999/02/22-rdf-syntax-ns#>\n",
    "    PREFIX rdfs: <http://www.w3.org/2000/01/rdf-schema#>\n",
    "    SELECT distinct(count(?path) as ?cnt) ?path ?msg WHERE {\n",
    "        ?sub a sh:ValidationResult ;\n",
    "  \t    sh:resultPath ?path ;\n",
    "        sh:resultMessage ?msg .\n",
    "    } \n",
    "    group by  ?path  ?msg\n",
    "    order by ?cnt \n",
    "\"\"\"\n",
    "\n",
    "# Execute the query\n",
    "results = validatiegraph.query(sparql_query)\n",
    "\n",
    "# Process the results\n",
    "for row in results:\n",
    "    print(row.cnt, row.path, row.msg)"
   ]
  },
  {
   "cell_type": "code",
   "execution_count": 28,
   "metadata": {},
   "outputs": [
    {
     "name": "stdout",
     "output_type": "stream",
     "text": [
      "| title               | path                                  | msg                                                        |\n",
      "|:--------------------|:--------------------------------------|:-----------------------------------------------------------|\n",
      "| Naam van de dataset | http://www.w3.org/ns/dcat#landingPage | Less than 1 values on exampleMS:1T2p3o4B->dcat:landingPage |\n",
      "| Naam van de dataset | http://xmlns.com/foaf/0.1/page        | Less than 1 values on exampleMS:1T2p3o4B->foaf:page        |\n"
     ]
    }
   ],
   "source": [
    "import pandas as pd\n",
    "# Define your SPARQL query\n",
    "sparql_query = \"\"\"\n",
    "    PREFIX sh: <http://www.w3.org/ns/shacl#>\n",
    "PREFIX rdf: <http://www.w3.org/1999/02/22-rdf-syntax-ns#>\n",
    "PREFIX rdfs: <http://www.w3.org/2000/01/rdf-schema#>\n",
    "prefix dcterms: <http://purl.org/dc/terms/>\n",
    "SELECT ?title ?path ?msg WHERE {\n",
    "  ?sub a sh:ValidationResult ;\n",
    "  \tsh:focusNode ?node ;\n",
    "  \tsh:resultPath ?path ;\n",
    "  \tsh:resultMessage ?msg .\n",
    "  ?node dcterms:title ?title .\n",
    "  FILTER (LANG(?title) = \"nl\")\n",
    "} order by ?title ?path  ?msg\n",
    "\"\"\"\n",
    "# Execute the query\n",
    "results = validatiegraph.query(sparql_query)\n",
    "\n",
    "# present the results in a easy markdown formatted table\n",
    "results_list = [dict(zip(results.vars, row)) for row in results]\n",
    "df = pd.DataFrame(results_list)\n",
    "print(df.to_markdown(index=False, numalign=\"left\", stralign=\"left\"))"
   ]
  }
 ],
 "metadata": {
  "kernelspec": {
   "display_name": "rdf",
   "language": "python",
   "name": "python3"
  },
  "language_info": {
   "codemirror_mode": {
    "name": "ipython",
    "version": 3
   },
   "file_extension": ".py",
   "mimetype": "text/x-python",
   "name": "python",
   "nbconvert_exporter": "python",
   "pygments_lexer": "ipython3",
   "version": "3.12.9"
  }
 },
 "nbformat": 4,
 "nbformat_minor": 2
}

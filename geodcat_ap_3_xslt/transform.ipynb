{
 "cells": [
  {
   "cell_type": "markdown",
   "metadata": {},
   "source": [
    "## XSLT transformation from ISO xml to GeoDCAT RDF/XML\n",
    "\n",
    "This notebook has some convenience steps to perform the iso xml to geodcat transformation.\n",
    "\n",
    "---\n",
    "\n",
    "Because the XSLT is a 2.0 version, 'standard' python libraries like lxml/etree cannot be used. (they only support xslt v1)\n",
    "\n",
    "So the initial steps are calling the saxon-he 12.5 java processor.\n",
    "\n",
    "Subsequent steps use rdflib and pyshacl to work with the rdf data.\n"
   ]
  },
  {
   "cell_type": "markdown",
   "metadata": {},
   "source": [
    "\n",
    "\n",
    "1) install java\n",
    "2) download saxon-he (community version)\n",
    "3) configure a 'task' in VSCode to run the transformation using the DeltaXML XSLT/XPath extension.\n",
    "\n",
    "Or use the commandline like this:\n",
    "```\n",
    "    java.exe \n",
    "    -cp <path>\\saxon-he-10.8.jar net.sf.saxon.Transform \n",
    "    -xsl:\\xslt\\iso-19139-to-dcat-ap.xsl \n",
    "    -s:\\test_input\\input.xml \n",
    "    -o:\\test_output\\result.xml \n",
    "    --allowSyntaxExtensions:off\n",
    "```"
   ]
  },
  {
   "cell_type": "markdown",
   "metadata": {},
   "source": [
    "#### XSLT transformation with SaxonC python API\n",
    "\n",
    "There is a python API for SaxonC\n",
    "\n",
    "```\n",
    "pip install saxonche\n",
    "```\n",
    "see: https://pypi.org/project/saxonche/\n",
    "and: https://www.saxonica.com/saxon-c/documentation12/index.html#!samples/samples_python\n",
    "\n"
   ]
  },
  {
   "cell_type": "code",
   "execution_count": 65,
   "metadata": {},
   "outputs": [],
   "source": [
    "import os\n",
    "from dotenv import load_dotenv\n",
    "from saxonche import *\n",
    "from pathlib import Path\n",
    "\n",
    "def saxonTransform(input_xml, xslt_file, output_file):\n",
    "    with PySaxonProcessor(license=False) as proc:\n",
    "\n",
    "        # print(proc.version)\n",
    "        try:\n",
    "            xsltproc = proc.new_xslt30_processor()\n",
    "            builder = proc.new_document_builder()\n",
    "            document = builder.parse_xml(xml_file_name=Path(input_xml).as_uri())\n",
    "            executable = xsltproc.compile_stylesheet(stylesheet_file=xslt_file)\n",
    "\n",
    "            output = executable.transform_to_string(xdm_node=document)\n",
    "            f = open(output_file, \"w\")\n",
    "            f.write(output)\n",
    "            f.close()\n",
    "\n",
    "        except PySaxonApiError as err:\n",
    "                print('Error during function call', err)\n"
   ]
  },
  {
   "cell_type": "code",
   "execution_count": 66,
   "metadata": {},
   "outputs": [],
   "source": [
    "\n",
    "# builder.parse_xml(xml_file_name=Path(input_xml).as_uri()) expects a fully qualified pathname. \n",
    "# So put that in an .env variable (to make the code stable accross environments)\n",
    "load_dotenv()  # take environment variables from .env.\n",
    "base_path = os.environ['BASE_PATH']\n",
    "\n",
    "xml_dir = Path(base_path + 'test_input\\\\')\n",
    "xml_out_dir = base_path + 'test_output_xml\\\\'\n",
    "xslt_file = base_path + 'xslt\\\\original\\\\iso-19139-to-dcat-ap.xsl'\n",
    "# Transform both test files with the original XSL and with the adapted XSL to analyze any changes\n",
    "\n",
    "for xml_file in xml_dir.glob('*.xml'):\n",
    "    # print(xml_file)\n",
    "    rdf_out = xml_out_dir + os.path.basename(xml_file).replace('xml','rdf')\n",
    "    # print(rdf_out)\n",
    "    saxonTransform(xml_file, xslt_file, rdf_out)\n"
   ]
  },
  {
   "cell_type": "markdown",
   "metadata": {},
   "source": [
    "There are some issues with the XSLT. The output of the changes to the XSLT are written to the adapted_xsl folder\n",
    "\n",
    "The changes in the xslt are annotated with the `<!-- @NH -->`  remark.\n",
    "\n",
    "- spaces in the namespace declaration in lines 55 - 86 seem to cause trouble with python => removed\n",
    "-  The creation of distributions and dataservices is done with blank nodes. This potentially causes issues when multiple rdf-dcat files are combined because the relation between dataset and distribution will get lost. provisional fix is to generate an id for the distribution line 1411 - 1466\n",
    "- creation of dcat:themes is done in such a way that only uri's are created for a theme, rather than a skos concept line 3113\n",
    "- every distribution gets a format/mediatype assigned, even though the stated format is not applicable to that distribuion. line 3410\n",
    "- currently the xslt transforms geometries for bounding box and geometry properties in 3 different ways. The profile (and the shacl files) specifies a max of 1 value for these properties, but does not specify which serialization.  lines 2586, 2587\n",
    "\n",
    "- also type a Dataset as dcat:Resource to fulfill shacl validation requirements foaf:primaryTopic -> dcat:Resource.  line 1133\n",
    "\n"
   ]
  },
  {
   "cell_type": "code",
   "execution_count": 67,
   "metadata": {},
   "outputs": [],
   "source": [
    "# builder.parse_xml(xml_file_name=Path(input_xml).as_uri()) expects a fully qualified pathname. \n",
    "# So put that in an .env variable (to make the code stable accross environments)\n",
    "load_dotenv()  # take environment variables from .env.\n",
    "base_path = os.environ['BASE_PATH']\n",
    "\n",
    "xml_dir = Path(base_path + 'test_input\\\\')\n",
    "xml_out_dir = base_path + 'test_output_xml\\\\adapted_xsl\\\\'\n",
    "xslt_file = base_path + 'xslt\\\\iso-19139-to-dcat-ap.xsl'\n",
    "# Transform both test files with the original XSL and with the adapted XSL to analyze any changes\n",
    "\n",
    "for xml_file in xml_dir.glob('*.xml'):\n",
    "    # print(xml_file)\n",
    "    rdf_out = xml_out_dir + os.path.basename(xml_file).replace('xml','rdf')\n",
    "    # print(rdf_out)\n",
    "    saxonTransform(xml_file, xslt_file, rdf_out)"
   ]
  },
  {
   "cell_type": "markdown",
   "metadata": {},
   "source": [
    "### transform from rdf/xml into ttl\n",
    "\n",
    "... because I like reading turtle more than reading xml ...\n",
    "\n",
    "And it checks whether the rdf/xml is actually valid rdf and can be parsed by rdflib ..."
   ]
  },
  {
   "cell_type": "code",
   "execution_count": 68,
   "metadata": {},
   "outputs": [],
   "source": [
    "from rdflib import Graph\n",
    "from rdflib.exceptions import Error\n",
    "\n",
    "def rdfxml_2_ttl(rdf_file, ttl_file):\n",
    "    try:\n",
    "        graph = Graph()\n",
    "        graph.parse(rdf_file)\n",
    "    \n",
    "        graph.serialize(ttl_file, format='turtle')\n",
    "    except Error as err:\n",
    "        print('Error during rdf to ttl transformation', err)"
   ]
  },
  {
   "cell_type": "code",
   "execution_count": 69,
   "metadata": {},
   "outputs": [],
   "source": [
    "rdf_folder = Path(base_path + 'test_output_xml\\\\')\n",
    "ttl_folder = base_path + 'test_output_ttl\\\\'\n",
    "\n",
    "for rdf_file in rdf_folder.glob('*.rdf'):\n",
    "    ttl_out = ttl_folder + os.path.basename(rdf_file).replace('rdf','ttl')\n",
    "    rdfxml_2_ttl(rdf_file, ttl_out)"
   ]
  },
  {
   "cell_type": "code",
   "execution_count": 70,
   "metadata": {},
   "outputs": [],
   "source": [
    "rdf_folder = Path(base_path + 'test_output_xml\\\\adapted_xsl\\\\')\n",
    "ttl_folder = base_path + 'test_output_ttl\\\\adapted_xsl\\\\'\n",
    "\n",
    "for rdf_file in rdf_folder.glob('*.rdf'):\n",
    "    ttl_out = ttl_folder + os.path.basename(rdf_file).replace('rdf','ttl')\n",
    "    rdfxml_2_ttl(rdf_file, ttl_out)"
   ]
  },
  {
   "cell_type": "markdown",
   "metadata": {},
   "source": [
    "### SHACL Validate"
   ]
  },
  {
   "cell_type": "code",
   "execution_count": 71,
   "metadata": {},
   "outputs": [],
   "source": [
    "from pyshacl import validate\n",
    "def do_validate(data_graph, sg):\n",
    "    r = validate(data_graph,\n",
    "      shacl_graph=sg,\n",
    "      ont_graph=None,\n",
    "      inference='rdfs',\n",
    "      abort_on_first=False,\n",
    "      allow_infos=False,\n",
    "      allow_warnings=False,\n",
    "      meta_shacl=False,\n",
    "      advanced=False,\n",
    "      js=False,\n",
    "      debug=False)\n",
    "    conforms, results_graph, results_text = r\n",
    "    return conforms, results_graph, results_text"
   ]
  },
  {
   "cell_type": "code",
   "execution_count": 72,
   "metadata": {},
   "outputs": [],
   "source": [
    "from pyshacl.errors import ReportableRuntimeError\n",
    "\n",
    "def shacl_validation(ttl_folder, shacl_file, validation_folder):\n",
    "    for ttl_file in ttl_folder.glob('*.ttl'):\n",
    "        try:\n",
    "            data_graph = Graph()\n",
    "            data_graph.parse(ttl_file, format='turtle')\n",
    "            sg = Graph()\n",
    "            sg.parse(shacl_file,  format='turtle')\n",
    "\n",
    "            sh_out = validation_folder + os.path.basename(ttl_file).replace('.ttl','.shacl.ttl')\n",
    "            txt_out = validation_folder + os.path.basename(ttl_file).replace('.ttl','.txt')\n",
    "\n",
    "            conforms, results_graph, results_text = do_validate(data_graph, sg)\n",
    "            results_graph.serialize(sh_out)\n",
    "            f = open(txt_out, \"a\")\n",
    "            f.write(results_text)\n",
    "            f.close()\n",
    "            print(sh_out + ' Validation result: ' + str(conforms))\n",
    "        except ReportableRuntimeError as err:\n",
    "            print('Error during shacl validation', err)"
   ]
  },
  {
   "cell_type": "code",
   "execution_count": 73,
   "metadata": {},
   "outputs": [
    {
     "name": "stdout",
     "output_type": "stream",
     "text": [
      "C:\\\\niels\\\\projecten\\\\ISO-2-DCAT\\\\geodcat_ap_3_xslt\\\\shacl_results\\4e2ef670-cddd-11dd-ad8b-0800200c9a66.shacl.ttl Validation result: False\n",
      "C:\\\\niels\\\\projecten\\\\ISO-2-DCAT\\\\geodcat_ap_3_xslt\\\\shacl_results\\aa3b5e6e-7baa-40c0-8972-3353e927ec2f.shacl.ttl Validation result: False\n"
     ]
    }
   ],
   "source": [
    "\n",
    "ttl_folder = Path(base_path + 'test_output_ttl\\\\')\n",
    "shacl_file = base_path + 'shacl\\\\original\\\\geodcat-ap-SHACL.ttl'\n",
    "validation_folder = base_path + 'shacl_results\\\\'\n",
    "\n",
    "shacl_validation(ttl_folder, shacl_file, validation_folder)"
   ]
  },
  {
   "cell_type": "markdown",
   "metadata": {},
   "source": [
    "there is a namespace error in the shacl file, so we also do the shacl validation on a fixed shacl file. https://github.com/SEMICeu/GeoDCAT-AP/issues/145\n"
   ]
  },
  {
   "cell_type": "code",
   "execution_count": 74,
   "metadata": {},
   "outputs": [
    {
     "name": "stdout",
     "output_type": "stream",
     "text": [
      "C:\\\\niels\\\\projecten\\\\ISO-2-DCAT\\\\geodcat_ap_3_xslt\\\\shacl_results\\adapted_xsl_shacl\\4e2ef670-cddd-11dd-ad8b-0800200c9a66.shacl.ttl Validation result: False\n",
      "C:\\\\niels\\\\projecten\\\\ISO-2-DCAT\\\\geodcat_ap_3_xslt\\\\shacl_results\\adapted_xsl_shacl\\aa3b5e6e-7baa-40c0-8972-3353e927ec2f.shacl.ttl Validation result: False\n"
     ]
    }
   ],
   "source": [
    "ttl_folder = Path(base_path + 'test_output_ttl\\\\adapted_xsl')\n",
    "shacl_file = base_path + 'shacl\\\\geodcat-ap-SHACL.ttl'\n",
    "validation_folder = base_path + 'shacl_results\\\\adapted_xsl_shacl\\\\'\n",
    "\n",
    "shacl_validation(ttl_folder, shacl_file, validation_folder)"
   ]
  }
 ],
 "metadata": {
  "kernelspec": {
   "display_name": "rdf",
   "language": "python",
   "name": "python3"
  },
  "language_info": {
   "codemirror_mode": {
    "name": "ipython",
    "version": 3
   },
   "file_extension": ".py",
   "mimetype": "text/x-python",
   "name": "python",
   "nbconvert_exporter": "python",
   "pygments_lexer": "ipython3",
   "version": "3.12.6"
  }
 },
 "nbformat": 4,
 "nbformat_minor": 2
}

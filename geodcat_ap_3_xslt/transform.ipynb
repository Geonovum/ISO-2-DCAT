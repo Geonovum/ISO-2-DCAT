{
 "cells": [
  {
   "cell_type": "markdown",
   "metadata": {},
   "source": [
    "## XSLT transformation from ISO xml to GeoDCAT RDF/XML\n",
    "\n",
    "This notebook has some convenience steps to perform the iso xml to geodcat transformation.\n",
    "\n",
    "---\n",
    "\n",
    "Because the XSLT is a 2.0 version, 'standard' python libraries like lxml/etree cannot be used. (they only support xslt v1)\n",
    "\n",
    "So the initial steps are calling the saxon-he 12.5 java processor.\n",
    "\n",
    "Subsequent steps use rdflib and pyshacl to work with the rdf data.\n"
   ]
  },
  {
   "cell_type": "markdown",
   "metadata": {},
   "source": [
    "\n",
    "\n",
    "1) install java\n",
    "2) download saxon-he (community version)\n",
    "3) configure a 'task' in VSCode to run the transformation using the DeltaXML XSLT/XPath extension.\n",
    "\n",
    "Or use the commandline like this:\n",
    "```\n",
    "    java.exe \n",
    "    -cp <path>\\saxon-he-10.8.jar net.sf.saxon.Transform \n",
    "    -xsl:\\xslt\\iso-19139-to-dcat-ap.xsl \n",
    "    -s:\\test_input\\input.xml \n",
    "    -o:\\test_output\\result.xml \n",
    "    --allowSyntaxExtensions:off\n",
    "```"
   ]
  },
  {
   "cell_type": "markdown",
   "metadata": {},
   "source": [
    "#### XSLT transformation with SaxonC python API\n",
    "\n",
    "There is a python API for SaxonC\n",
    "\n",
    "```\n",
    "pip install saxonche\n",
    "```\n",
    "see: https://pypi.org/project/saxonche/\n",
    "and: https://www.saxonica.com/saxon-c/documentation12/index.html#!samples/samples_python\n",
    "\n"
   ]
  },
  {
   "cell_type": "code",
   "execution_count": 4,
   "metadata": {},
   "outputs": [],
   "source": [
    "import os\n",
    "from dotenv import load_dotenv\n",
    "from saxonche import *\n",
    "from pathlib import Path\n",
    "\n",
    "load_dotenv()  # take environment variables from .env.\n",
    "\n",
    "def transform(input_xml, xslt_file, output_file):\n",
    "    with PySaxonProcessor(license=False) as proc:\n",
    "\n",
    "        # print(proc.version)\n",
    "        try:\n",
    "            xsltproc = proc.new_xslt30_processor()\n",
    "            builder = proc.new_document_builder()\n",
    "            document = builder.parse_xml(xml_file_name=Path(input_xml).as_uri())\n",
    "            executable = xsltproc.compile_stylesheet(stylesheet_file=xslt_file)\n",
    "\n",
    "            output = executable.transform_to_string(xdm_node=document)\n",
    "            f = open(output_file, \"w\")\n",
    "            f.write(output)\n",
    "            f.close()\n",
    "\n",
    "        except PySaxonApiError as err:\n",
    "                print('Error during function call', err)\n",
    "\n",
    "# builder.parse_xml(xml_file_name=Path(input_xml).as_uri()) expects a fully qualified pathname. \n",
    "# So put that in an .env variable (to make the code stable accross environments)\n",
    "input_path = os.environ['INPUT_PATH']\n",
    "\n",
    "# Transform both test files with the original XSL and with the adapted XSL to analyze any changes\n",
    "\n",
    "# rce file transform with original xsl\n",
    "transform(input_xml=input_path+'4e2ef670-cddd-11dd-ad8b-0800200c9a66.xml',xslt_file='xslt/original/iso-19139-to-dcat-ap.xsl',output_file=\"./test_output_xml/4e2ef670-rce-orig.xml\")\n",
    "\n",
    "# rce file transform with adapted xsl\n",
    "transform(input_xml=input_path+'4e2ef670-cddd-11dd-ad8b-0800200c9a66.xml',xslt_file='xslt/iso-19139-to-dcat-ap.xsl',output_file=\"./test_output_xml/4e2ef670-rce-new.xml\")\n",
    "\n",
    "# bag file transform with original xsl\n",
    "transform(input_xml=input_path+'aa3b5e6e-7baa-40c0-8972-3353e927ec2f.xml',xslt_file='xslt/original/iso-19139-to-dcat-ap.xsl',output_file=\"./test_output_xml/aa3b5e6e-bag-orig.xml\")\n",
    "\n",
    "# bag file transform with adapted xsl\n",
    "transform(input_xml=input_path+'aa3b5e6e-7baa-40c0-8972-3353e927ec2f.xml',xslt_file='xslt/iso-19139-to-dcat-ap.xsl',output_file=\"./test_output_xml/aa3b5e6e-bag-new.xml\")\n"
   ]
  },
  {
   "cell_type": "markdown",
   "metadata": {},
   "source": [
    "### transform from rdf/xml into ttl\n",
    "\n",
    "... because I like reading turtle more than reading xml ...\n",
    "\n",
    "And it checks whether the rdf/xml is actually valid rdf and can be parsed by rdflib ..."
   ]
  },
  {
   "cell_type": "code",
   "execution_count": 5,
   "metadata": {},
   "outputs": [
    {
     "data": {
      "text/plain": [
       "<Graph identifier=Nb374afbf294d476c8de42665439729d8 (<class 'rdflib.graph.Graph'>)>"
      ]
     },
     "execution_count": 5,
     "metadata": {},
     "output_type": "execute_result"
    }
   ],
   "source": [
    "from rdflib import Graph\n",
    "\n",
    "graph = Graph()\n",
    "graph.parse(r'test_output_xml/4e2ef670-rce-orig.xml')\n",
    "graph.serialize('test_output_ttl/4e2ef670-rce-orig.ttl', format='turtle')\n",
    "\n",
    "graph2 = Graph()\n",
    "graph2.parse(r'test_output_xml/4e2ef670-rce-new.xml')\n",
    "graph2.serialize('test_output_ttl/4e2ef670-rce-new.ttl', format='turtle')\n",
    "\n",
    "graph3 = Graph()\n",
    "graph3.parse(r'test_output_xml/aa3b5e6e-bag-orig.xml')\n",
    "graph3.serialize('test_output_ttl/aa3b5e6e-bag-orig.ttl', format='turtle')\n",
    "\n",
    "graph4 = Graph()\n",
    "graph4.parse(r'test_output_xml/aa3b5e6e-bag-new.xml')\n",
    "graph4.serialize('test_output_ttl/aa3b5e6e-bag-new.ttl', format='turtle')"
   ]
  },
  {
   "cell_type": "markdown",
   "metadata": {},
   "source": [
    "### SHACL Validate"
   ]
  },
  {
   "cell_type": "code",
   "execution_count": 24,
   "metadata": {},
   "outputs": [],
   "source": [
    "from pyshacl import validate\n",
    "def do_validate(data_graph, sg):\n",
    "    r = validate(data_graph,\n",
    "      shacl_graph=sg,\n",
    "      ont_graph=None,\n",
    "      inference='rdfs',\n",
    "      abort_on_first=False,\n",
    "      allow_infos=False,\n",
    "      allow_warnings=False,\n",
    "      meta_shacl=False,\n",
    "      advanced=False,\n",
    "      js=False,\n",
    "      debug=False)\n",
    "    conforms, results_graph, results_text = r\n",
    "    return conforms, results_graph, results_text"
   ]
  },
  {
   "cell_type": "code",
   "execution_count": 25,
   "metadata": {},
   "outputs": [],
   "source": [
    "from rdflib import Graph\n",
    "\n",
    "data_graph = Graph()\n",
    "data_graph.parse(r'test_output_ttl/4e2ef670-rce-orig.ttl', format='turtle')\n",
    "# data_graph.parse(r'xsl-out/result-gn-template.ttl', format='turtle')\n",
    "sg = Graph()\n",
    "sg.parse(r'shacl/geodcat-ap-SHACL.ttl',  format='turtle')\n",
    "\n",
    "conforms1, results_graph1, results_text1 = do_validate(data_graph, sg)\n",
    "results_graph1.serialize('shacl_results/result-4e2ef670-rce-orig.ttl')\n",
    "f = open(\"shacl_results/results_rce_orig.txt\", \"a\")\n",
    "f.write(results_text1)\n",
    "f.close()"
   ]
  },
  {
   "cell_type": "code",
   "execution_count": 26,
   "metadata": {},
   "outputs": [],
   "source": [
    "data_graph2 = Graph()\n",
    "data_graph2.parse(r'test_output_ttl/4e2ef670-rce-new.ttl', format='turtle')\n",
    "# data_graph.parse(r'xsl-out/result-gn-template.ttl', format='turtle')\n",
    "sg2 = Graph()\n",
    "sg2.parse(r'shacl/geodcat-ap-SHACL.ttl',  format='turtle')\n",
    "\n",
    "conforms2, results_graph2, results_text2 = do_validate(data_graph2, sg2)\n",
    "results_graph2.serialize('shacl_results/result-4e2ef670-rce-new.ttl')\n",
    "f = open(\"shacl_results/results_rce_new.txt\", \"a\")\n",
    "f.write(results_text2)\n",
    "f.close()"
   ]
  },
  {
   "cell_type": "code",
   "execution_count": 27,
   "metadata": {},
   "outputs": [],
   "source": [
    "data_graph3 = Graph()\n",
    "data_graph3.parse(r'test_output_ttl/aa3b5e6e-bag-orig.ttl', format='turtle')\n",
    "# data_graph.parse(r'xsl-out/result-gn-template.ttl', format='turtle')\n",
    "sg3 = Graph()\n",
    "sg3.parse(r'shacl/geodcat-ap-SHACL.ttl',  format='turtle')\n",
    "\n",
    "conforms3, results_graph3, results_text3 = do_validate(data_graph3, sg3)\n",
    "results_graph3.serialize('shacl_results/result-aa3b5e6e-bag-orig.ttl')\n",
    "f = open(\"shacl_results/results_bag_orig.txt\", \"a\")\n",
    "f.write(results_text3)\n",
    "f.close()"
   ]
  },
  {
   "cell_type": "code",
   "execution_count": 28,
   "metadata": {},
   "outputs": [],
   "source": [
    "data_graph4 = Graph()\n",
    "data_graph4.parse(r'test_output_ttl/aa3b5e6e-bag-new.ttl', format='turtle')\n",
    "# data_graph.parse(r'xsl-out/result-gn-template.ttl', format='turtle')\n",
    "sg4 = Graph()\n",
    "sg4.parse(r'shacl/geodcat-ap-SHACL.ttl',  format='turtle')\n",
    "\n",
    "conforms4, results_graph4, results_text4 = do_validate(data_graph4, sg4)\n",
    "results_graph4.serialize('shacl_results/result-aa3b5e6e-bag-new.ttl')\n",
    "f = open(\"shacl_results/results_bag_new.txt\", \"a\")\n",
    "f.write(results_text4)\n",
    "f.close()"
   ]
  },
  {
   "cell_type": "code",
   "execution_count": null,
   "metadata": {},
   "outputs": [],
   "source": [
    "print(results_text2)"
   ]
  }
 ],
 "metadata": {
  "kernelspec": {
   "display_name": "rdf",
   "language": "python",
   "name": "python3"
  },
  "language_info": {
   "codemirror_mode": {
    "name": "ipython",
    "version": 3
   },
   "file_extension": ".py",
   "mimetype": "text/x-python",
   "name": "python",
   "nbconvert_exporter": "python",
   "pygments_lexer": "ipython3",
   "version": "3.12.6"
  }
 },
 "nbformat": 4,
 "nbformat_minor": 2
}
